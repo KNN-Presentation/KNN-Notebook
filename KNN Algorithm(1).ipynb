{
 "cells": [
  {
   "cell_type": "code",
   "execution_count": 22,
   "metadata": {},
   "outputs": [],
   "source": [
    "import numpy as np\n",
    "import pandas as pd\n",
    "import matplotlib.pyplot as plt\n",
    "import seaborn as sns"
   ]
  },
  {
   "cell_type": "markdown",
   "metadata": {},
   "source": [
    "# Code KNN"
   ]
  },
  {
   "cell_type": "code",
   "execution_count": 9,
   "metadata": {},
   "outputs": [],
   "source": [
    "def euclidean_distance(instance1,instance2):\n",
    "    distance=0\n",
    "    for i in range(len(instance1)):\n",
    "            s=(instance1[i]-instance2[i])**2\n",
    "            distance+= s\n",
    "    return np.sqrt(distance)\n",
    "    \n",
    "def manahtan_distance(instance1,instance2):\n",
    "    distance=0\n",
    "    for i in range(len(instance1)):\n",
    "            s=abs(instance1[i]-instance2[i])\n",
    "            distance+= s\n",
    "    return distance"
   ]
  },
  {
   "cell_type": "code",
   "execution_count": 10,
   "metadata": {},
   "outputs": [],
   "source": [
    "def Neighbors(train_set,instance,func_distance):\n",
    "    Distances =[]\n",
    "    Neighbors=[]\n",
    "    for index,train_instance in enumerate(train_set):\n",
    "        Distances.append(func_distance(train_instance,instance))\n",
    "        Neighbors.append(index)\n",
    "    Distances=np.array(Distances)\n",
    "    Neighbors=np.array(Neighbors)\n",
    "    Neighbors=Neighbors[Distances.argsort()]\n",
    "    return Neighbors\n",
    "    "
   ]
  },
  {
   "cell_type": "code",
   "execution_count": 11,
   "metadata": {},
   "outputs": [
    {
     "name": "stdout",
     "output_type": "stream",
     "text": [
      "[1 0 2 3 4]\n"
     ]
    }
   ],
   "source": [
    "train_set=np.array([[1,0,0],[1,1,2],[2,1,2],[0,0,0],[3,1,1]])\n",
    "print(Neighbors(train_set,[1,1,1],euclidean_distance))"
   ]
  },
  {
   "cell_type": "code",
   "execution_count": 12,
   "metadata": {},
   "outputs": [],
   "source": [
    "def KNN(train_target,train_set,k,instance,f):\n",
    "    Category={}\n",
    "    KNN=Neighbors(train_set,instance,f)[:k]\n",
    "    for i in KNN:\n",
    "        if train_target[i] in Category.keys():\n",
    "            Category[train_target[i]]+=1\n",
    "        else:\n",
    "            Category[train_target[i]]=1 \n",
    "        Result=-10**99\n",
    "        for key,values in Category.items():\n",
    "            if values > Result:\n",
    "                Result = key\n",
    "        return key"
   ]
  },
  {
   "cell_type": "markdown",
   "metadata": {},
   "source": [
    "# Score du model"
   ]
  },
  {
   "cell_type": "code",
   "execution_count": 13,
   "metadata": {},
   "outputs": [],
   "source": [
    "def accuracy(test_set,test_target,train_set,train_target,k,f):\n",
    "    score=0\n",
    "    for i,j in zip(test_set,test_target):\n",
    "        prediction = KNN(train_target,train_set,k,i,f)\n",
    "        if prediction ==j:\n",
    "            score+=1\n",
    "    return (score/len(test_set))*100"
   ]
  },
  {
   "cell_type": "code",
   "execution_count": 19,
   "metadata": {},
   "outputs": [
    {
     "data": {
      "text/html": [
       "<div>\n",
       "<style scoped>\n",
       "    .dataframe tbody tr th:only-of-type {\n",
       "        vertical-align: middle;\n",
       "    }\n",
       "\n",
       "    .dataframe tbody tr th {\n",
       "        vertical-align: top;\n",
       "    }\n",
       "\n",
       "    .dataframe thead th {\n",
       "        text-align: right;\n",
       "    }\n",
       "</style>\n",
       "<table border=\"1\" class=\"dataframe\">\n",
       "  <thead>\n",
       "    <tr style=\"text-align: right;\">\n",
       "      <th></th>\n",
       "      <th>Size</th>\n",
       "      <th>Weight</th>\n",
       "      <th>Gender</th>\n",
       "    </tr>\n",
       "  </thead>\n",
       "  <tbody>\n",
       "    <tr>\n",
       "      <td>0</td>\n",
       "      <td>157.422500</td>\n",
       "      <td>92.606603</td>\n",
       "      <td>1.0</td>\n",
       "    </tr>\n",
       "    <tr>\n",
       "      <td>1</td>\n",
       "      <td>155.884708</td>\n",
       "      <td>87.706457</td>\n",
       "      <td>1.0</td>\n",
       "    </tr>\n",
       "    <tr>\n",
       "      <td>2</td>\n",
       "      <td>160.174852</td>\n",
       "      <td>86.490670</td>\n",
       "      <td>1.0</td>\n",
       "    </tr>\n",
       "    <tr>\n",
       "      <td>3</td>\n",
       "      <td>157.773720</td>\n",
       "      <td>102.094285</td>\n",
       "      <td>1.0</td>\n",
       "    </tr>\n",
       "    <tr>\n",
       "      <td>4</td>\n",
       "      <td>154.186999</td>\n",
       "      <td>102.886365</td>\n",
       "      <td>1.0</td>\n",
       "    </tr>\n",
       "  </tbody>\n",
       "</table>\n",
       "</div>"
      ],
      "text/plain": [
       "         Size      Weight  Gender\n",
       "0  157.422500   92.606603     1.0\n",
       "1  155.884708   87.706457     1.0\n",
       "2  160.174852   86.490670     1.0\n",
       "3  157.773720  102.094285     1.0\n",
       "4  154.186999  102.886365     1.0"
      ]
     },
     "execution_count": 19,
     "metadata": {},
     "output_type": "execute_result"
    }
   ],
   "source": [
    "nb_male=70\n",
    "nb_female=70\n",
    "\n",
    "#Pandas'Dataframe creation\n",
    "\n",
    "from random import uniform\n",
    "Size_male=np.random.uniform(160,180,nb_male).reshape((nb_male,1))\n",
    "Weight_male=np.random.uniform(85,120,nb_male).reshape((nb_male,1))\n",
    "Male=np.array([0 for i in range(nb_male)]).reshape((nb_male,1))\n",
    "Panda_male=np.concatenate((Size_male,Weight_male),axis=1)\n",
    "Panda_male=np.concatenate((Panda_male,Male),axis=1)\n",
    "\n",
    "Size_female=np.random.uniform(150,170,nb_female).reshape((nb_female,1))\n",
    "Weight_female=np.random.uniform(80,105,nb_female).reshape((nb_female,1))\n",
    "Female=np.array([1 for i in range(nb_female)]).reshape((nb_female,1))\n",
    "Panda_female=np.concatenate((Size_female,Weight_female),axis=1)\n",
    "Panda_female=np.concatenate((Panda_female,Female),axis=1)\n",
    "\n",
    "Size=np.concatenate((Size_female,Size_male),axis=0)\n",
    "Weight=np.concatenate((Weight_female,Weight_male),axis=0)\n",
    "Gender=np.concatenate((Female,Male))\n",
    "\n",
    "Pandas=np.concatenate((Panda_female,Panda_male),axis=0)\n",
    "\n",
    "Df_Pandas=pd.DataFrame(Pandas,columns=['Size','Weight','Gender'])\n",
    "Df_Pandas.head()\n",
    "\n",
    "#1=female\n",
    "#0=Male"
   ]
  },
  {
   "cell_type": "code",
   "execution_count": 20,
   "metadata": {},
   "outputs": [
    {
     "data": {
      "image/png": "[encoded data removed]",
      "text/plain": [
       "<Figure size 864x576 with 1 Axes>"
      ]
     },
     "metadata": {
      "needs_background": "light"
     },
     "output_type": "display_data"
    }
   ],
   "source": [
    "\n",
    "\n",
    "Panda_test=np.array([170,115])\n",
    "plt.figure(figsize=(12,8))\n",
    "plt.scatter(Size,Weight,c=Gender)\n",
    "plt.scatter(Panda_test[0],Panda_test[1],c='red',s=200)\n",
    "plt.xlabel('Size')\n",
    "plt.ylabel('Weight')\n",
    "plt.title('Giant_Pandas')\n",
    "plt.show()\n",
    "\n"
   ]
  },
  {
   "cell_type": "code",
   "execution_count": 23,
   "metadata": {},
   "outputs": [
    {
     "data": {
      "text/plain": [
       "Text(110, 180, 'Male')"
      ]
     },
     "execution_count": 23,
     "metadata": {},
     "output_type": "execute_result"
    },
    {
     "data": {
      "image/png": "[encoded data removed]",
      "text/plain": [
       "<Figure size 864x864 with 1 Axes>"
      ]
     },
     "metadata": {},
     "output_type": "display_data"
    }
   ],
   "source": [
    "sns.set(style=\"darkgrid\")\n",
    "\n",
    "#axes\n",
    "f, ax = plt.subplots(figsize=(12, 12))\n",
    "ax.set_aspect(\"equal\")\n",
    "\n",
    "#data\n",
    "ax = sns.kdeplot(Df_Pandas[Df_Pandas.Gender==0].Weight, Df_Pandas[Df_Pandas.Gender==0].Size,cmap=\"Reds\", shade=True, shade_lowest=False)\n",
    "ax = sns.kdeplot(Df_Pandas[Df_Pandas.Gender==1].Weight, Df_Pandas[Df_Pandas.Gender==1].Size,cmap=\"Blues\", shade=True, shade_lowest=False)\n",
    "\n",
    "#labels\n",
    "red = sns.color_palette(\"Reds\")[-2]\n",
    "blue = sns.color_palette(\"Blues\")[-2]\n",
    "ax.text(80, 150, \"Female\", size=16, color=blue)\n",
    "ax.text(110, 180, \"Male\", size=16, color=red)"
   ]
  },
  {
   "cell_type": "code",
   "execution_count": 24,
   "metadata": {},
   "outputs": [],
   "source": [
    "from sklearn.model_selection import train_test_split"
   ]
  },
  {
   "cell_type": "code",
   "execution_count": 25,
   "metadata": {},
   "outputs": [
    {
     "name": "stdout",
     "output_type": "stream",
     "text": [
      "[[160.76674738  89.08342624]\n",
      " [170.20671508 101.51585666]\n",
      " [151.77510677  86.32917892]\n",
      " [162.38564922 110.16588727]\n",
      " [165.56838184 107.63092931]\n",
      " [179.61842076 110.54568084]\n",
      " [165.38121617  89.16541977]\n",
      " [166.5397369   97.58921571]\n",
      " [151.8036867   87.10000183]\n",
      " [167.20139061  95.45357801]\n",
      " [167.46010063 104.09256578]\n",
      " [163.40211471  85.63465377]\n",
      " [163.65527514  92.11653167]\n",
      " [179.76423176  85.09484932]\n",
      " [168.44197912  86.94123196]\n",
      " [162.49954384  95.23746901]\n",
      " [158.08180714 100.01931804]\n",
      " [164.83425439 100.47397692]\n",
      " [177.71437478 113.689242  ]\n",
      " [163.51899027 117.41899253]\n",
      " [172.99822043  88.75764484]\n",
      " [177.17723859 119.88089632]\n",
      " [162.9032076  115.40524383]\n",
      " [176.42456839  88.94027383]\n",
      " [167.68104677 101.2408928 ]\n",
      " [160.10607279  96.29842563]\n",
      " [167.90393187 116.69365563]\n",
      " [151.65581252 100.847262  ]\n",
      " [166.81292747  97.10378614]\n",
      " [173.82996628 111.6128805 ]\n",
      " [165.18792065 104.21085892]\n",
      " [176.84015817 106.97924002]\n",
      " [169.63247601  96.47163431]\n",
      " [160.18293601  91.20115641]\n",
      " [153.50468084 104.301309  ]\n",
      " [154.45917179  89.31891804]\n",
      " [156.57907118  86.64627316]\n",
      " [165.22486616  83.93367142]\n",
      " [176.14528386  91.54891855]\n",
      " [168.77980066 100.94813197]\n",
      " [163.35871247 101.69555474]\n",
      " [163.65762153  92.35847154]\n",
      " [168.14388334  85.42293165]\n",
      " [165.63771789  85.97697556]\n",
      " [170.23917718 113.86958953]\n",
      " [157.36685312  83.57052788]\n",
      " [153.54233334  96.70334956]\n",
      " [158.30132938  93.49373038]\n",
      " [176.28305276  93.89080918]\n",
      " [165.84803757  95.34613666]\n",
      " [157.42249964  92.60660298]\n",
      " [164.23770349  83.76635987]\n",
      " [164.81377611  85.60019909]\n",
      " [151.22786048  96.66885612]\n",
      " [156.14209369  93.25919037]\n",
      " [152.85754095  99.11872023]\n",
      " [161.87423619  96.61626201]\n",
      " [161.67422798  98.16079039]\n",
      " [174.54150451 119.78770944]\n",
      " [165.97740981  82.62717085]\n",
      " [157.60009783  94.62929505]\n",
      " [167.08223154  92.87616507]\n",
      " [176.82268731  94.73679922]\n",
      " [169.42833878  85.13680182]\n",
      " [154.22994537  98.76184107]\n",
      " [156.69095507  90.70818562]\n",
      " [154.18699897 102.88636513]\n",
      " [176.12480605 104.35785451]\n",
      " [162.65089655  92.15857075]\n",
      " [157.41533361  87.3102462 ]\n",
      " [173.83566104 106.85625127]\n",
      " [161.90588232  88.61670928]\n",
      " [158.70418902  85.71096561]\n",
      " [173.2188912   90.60789078]\n",
      " [169.16098681 117.26177445]\n",
      " [179.19887949  98.82581281]\n",
      " [153.48296514 103.49252932]\n",
      " [173.78137454 119.52868458]\n",
      " [162.76907412  82.13036397]\n",
      " [157.7737197  102.09428511]\n",
      " [152.47500175  98.55778863]\n",
      " [157.13283881  84.47990741]\n",
      " [173.76586704 109.29208728]\n",
      " [179.78803668 113.50518657]\n",
      " [168.55298417  93.41210154]\n",
      " [165.77430016  99.69745647]\n",
      " [160.29685308 111.27046325]\n",
      " [151.50690326  83.77250122]\n",
      " [163.9137207   83.62905885]\n",
      " [170.98245112 102.92333467]\n",
      " [174.6735251   86.47869897]\n",
      " [176.39233044  92.33247744]\n",
      " [168.55487516  85.39500934]\n",
      " [169.73265896  88.7085743 ]\n",
      " [162.90383467 112.60631675]\n",
      " [163.04229736 106.91907698]\n",
      " [164.46168562  96.60719359]\n",
      " [178.86956941 116.831508  ]\n",
      " [156.92544054  84.38615844]\n",
      " [150.41789558  98.28703177]\n",
      " [155.88470793  87.70645717]\n",
      " [165.6328623   97.88978238]\n",
      " [167.27119139  83.95767587]\n",
      " [163.24759822  97.88456505]\n",
      " [178.6056176  107.51115012]]\n",
      "[0. 0. 1. 0. 0. 0. 0. 0. 1. 1. 1. 1. 0. 0. 1. 0. 1. 0. 0. 0. 0. 0. 0. 0.\n",
      " 0. 1. 0. 1. 1. 0. 1. 0. 0. 0. 1. 1. 1. 1. 0. 1. 0. 0. 0. 1. 0. 1. 1. 1.\n",
      " 0. 1. 1. 1. 0. 1. 1. 1. 1. 0. 0. 1. 1. 0. 0. 1. 1. 1. 1. 0. 0. 1. 0. 0.\n",
      " 1. 0. 0. 0. 1. 0. 1. 1. 1. 1. 0. 0. 0. 0. 0. 1. 1. 0. 0. 0. 1. 0. 0. 0.\n",
      " 1. 0. 1. 1. 1. 0. 1. 0. 0.]\n"
     ]
    }
   ],
   "source": [
    "Target = Pandas[:,2]\n",
    "Features = Pandas[:,0:2]\n",
    "\n",
    "X_train,X_test,y_train,y_test = train_test_split(Features,Target)\n",
    "print(X_train)\n",
    "print(y_train)"
   ]
  },
  {
   "cell_type": "code",
   "execution_count": 26,
   "metadata": {},
   "outputs": [
    {
     "data": {
      "text/plain": [
       "0.0"
      ]
     },
     "execution_count": 26,
     "metadata": {},
     "output_type": "execute_result"
    }
   ],
   "source": [
    "Panda_test=np.array([180,118])\n",
    "k=3\n",
    "KNN(y_train,X_train,k,Panda_test,euclidean_distance)"
   ]
  },
  {
   "cell_type": "code",
   "execution_count": 27,
   "metadata": {},
   "outputs": [
    {
     "name": "stdout",
     "output_type": "stream",
     "text": [
      "1\n",
      "80.0\n",
      "85.71428571428571\n",
      "2\n",
      "80.0\n",
      "85.71428571428571\n",
      "3\n",
      "80.0\n",
      "85.71428571428571\n",
      "4\n",
      "80.0\n",
      "85.71428571428571\n",
      "5\n",
      "80.0\n",
      "85.71428571428571\n",
      "6\n",
      "80.0\n",
      "85.71428571428571\n",
      "7\n",
      "80.0\n",
      "85.71428571428571\n",
      "8\n",
      "80.0\n",
      "85.71428571428571\n",
      "9\n",
      "80.0\n",
      "85.71428571428571\n",
      "10\n",
      "80.0\n",
      "85.71428571428571\n",
      "11\n",
      "80.0\n",
      "85.71428571428571\n",
      "12\n",
      "80.0\n",
      "85.71428571428571\n",
      "13\n",
      "80.0\n",
      "85.71428571428571\n",
      "14\n",
      "80.0\n",
      "85.71428571428571\n",
      "15\n",
      "80.0\n",
      "85.71428571428571\n",
      "16\n",
      "80.0\n",
      "85.71428571428571\n",
      "17\n",
      "80.0\n",
      "85.71428571428571\n",
      "18\n",
      "80.0\n",
      "85.71428571428571\n",
      "19\n",
      "80.0\n",
      "85.71428571428571\n"
     ]
    }
   ],
   "source": [
    "for i in range(1,20):\n",
    "    print(i)\n",
    "    print(accuracy(X_test,y_test,X_train,y_train,i,euclidean_distance))\n",
    "    print(accuracy(X_test,y_test,X_train,y_train,i,manahtan_distance))"
   ]
  },
  {
   "cell_type": "code",
   "execution_count": null,
   "metadata": {},
   "outputs": [],
   "source": []
  },
  {
   "cell_type": "code",
   "execution_count": 28,
   "metadata": {},
   "outputs": [
    {
     "data": {
      "text/html": [
       "<div>\n",
       "<style scoped>\n",
       "    .dataframe tbody tr th:only-of-type {\n",
       "        vertical-align: middle;\n",
       "    }\n",
       "\n",
       "    .dataframe tbody tr th {\n",
       "        vertical-align: top;\n",
       "    }\n",
       "\n",
       "    .dataframe thead th {\n",
       "        text-align: right;\n",
       "    }\n",
       "</style>\n",
       "<table border=\"1\" class=\"dataframe\">\n",
       "  <thead>\n",
       "    <tr style=\"text-align: right;\">\n",
       "      <th></th>\n",
       "      <th>survived</th>\n",
       "      <th>pclass</th>\n",
       "      <th>sex</th>\n",
       "      <th>age</th>\n",
       "      <th>sibsp</th>\n",
       "      <th>parch</th>\n",
       "      <th>fare</th>\n",
       "      <th>embarked</th>\n",
       "      <th>class</th>\n",
       "      <th>who</th>\n",
       "      <th>adult_male</th>\n",
       "      <th>deck</th>\n",
       "      <th>embark_town</th>\n",
       "      <th>alive</th>\n",
       "      <th>alone</th>\n",
       "    </tr>\n",
       "  </thead>\n",
       "  <tbody>\n",
       "    <tr>\n",
       "      <td>0</td>\n",
       "      <td>0</td>\n",
       "      <td>3</td>\n",
       "      <td>male</td>\n",
       "      <td>22.0</td>\n",
       "      <td>1</td>\n",
       "      <td>0</td>\n",
       "      <td>7.2500</td>\n",
       "      <td>S</td>\n",
       "      <td>Third</td>\n",
       "      <td>man</td>\n",
       "      <td>True</td>\n",
       "      <td>NaN</td>\n",
       "      <td>Southampton</td>\n",
       "      <td>no</td>\n",
       "      <td>False</td>\n",
       "    </tr>\n",
       "    <tr>\n",
       "      <td>1</td>\n",
       "      <td>1</td>\n",
       "      <td>1</td>\n",
       "      <td>female</td>\n",
       "      <td>38.0</td>\n",
       "      <td>1</td>\n",
       "      <td>0</td>\n",
       "      <td>71.2833</td>\n",
       "      <td>C</td>\n",
       "      <td>First</td>\n",
       "      <td>woman</td>\n",
       "      <td>False</td>\n",
       "      <td>C</td>\n",
       "      <td>Cherbourg</td>\n",
       "      <td>yes</td>\n",
       "      <td>False</td>\n",
       "    </tr>\n",
       "    <tr>\n",
       "      <td>2</td>\n",
       "      <td>1</td>\n",
       "      <td>3</td>\n",
       "      <td>female</td>\n",
       "      <td>26.0</td>\n",
       "      <td>0</td>\n",
       "      <td>0</td>\n",
       "      <td>7.9250</td>\n",
       "      <td>S</td>\n",
       "      <td>Third</td>\n",
       "      <td>woman</td>\n",
       "      <td>False</td>\n",
       "      <td>NaN</td>\n",
       "      <td>Southampton</td>\n",
       "      <td>yes</td>\n",
       "      <td>True</td>\n",
       "    </tr>\n",
       "    <tr>\n",
       "      <td>3</td>\n",
       "      <td>1</td>\n",
       "      <td>1</td>\n",
       "      <td>female</td>\n",
       "      <td>35.0</td>\n",
       "      <td>1</td>\n",
       "      <td>0</td>\n",
       "      <td>53.1000</td>\n",
       "      <td>S</td>\n",
       "      <td>First</td>\n",
       "      <td>woman</td>\n",
       "      <td>False</td>\n",
       "      <td>C</td>\n",
       "      <td>Southampton</td>\n",
       "      <td>yes</td>\n",
       "      <td>False</td>\n",
       "    </tr>\n",
       "    <tr>\n",
       "      <td>4</td>\n",
       "      <td>0</td>\n",
       "      <td>3</td>\n",
       "      <td>male</td>\n",
       "      <td>35.0</td>\n",
       "      <td>0</td>\n",
       "      <td>0</td>\n",
       "      <td>8.0500</td>\n",
       "      <td>S</td>\n",
       "      <td>Third</td>\n",
       "      <td>man</td>\n",
       "      <td>True</td>\n",
       "      <td>NaN</td>\n",
       "      <td>Southampton</td>\n",
       "      <td>no</td>\n",
       "      <td>True</td>\n",
       "    </tr>\n",
       "  </tbody>\n",
       "</table>\n",
       "</div>"
      ],
      "text/plain": [
       "   survived  pclass     sex   age  sibsp  parch     fare embarked  class  \\\n",
       "0         0       3    male  22.0      1      0   7.2500        S  Third   \n",
       "1         1       1  female  38.0      1      0  71.2833        C  First   \n",
       "2         1       3  female  26.0      0      0   7.9250        S  Third   \n",
       "3         1       1  female  35.0      1      0  53.1000        S  First   \n",
       "4         0       3    male  35.0      0      0   8.0500        S  Third   \n",
       "\n",
       "     who  adult_male deck  embark_town alive  alone  \n",
       "0    man        True  NaN  Southampton    no  False  \n",
       "1  woman       False    C    Cherbourg   yes  False  \n",
       "2  woman       False  NaN  Southampton   yes   True  \n",
       "3  woman       False    C  Southampton   yes  False  \n",
       "4    man        True  NaN  Southampton    no   True  "
      ]
     },
     "execution_count": 28,
     "metadata": {},
     "output_type": "execute_result"
    }
   ],
   "source": [
    "titanic = sns.load_dataset('titanic')\n",
    "titanic.shape\n",
    "titanic.head()"
   ]
  },
  {
   "cell_type": "code",
   "execution_count": 29,
   "metadata": {},
   "outputs": [
    {
     "data": {
      "text/plain": [
       "<seaborn.axisgrid.FacetGrid at 0x1aac460e308>"
      ]
     },
     "execution_count": 29,
     "metadata": {},
     "output_type": "execute_result"
    },
    {
     "data": {
      "image/png": "[encoded data removed]",
      "text/plain": [
       "<Figure size 432.85x360 with 1 Axes>"
      ]
     },
     "metadata": {},
     "output_type": "display_data"
    },
    {
     "data": {
      "image/png": "[encoded data removed]",
      "text/plain": [
       "<Figure size 406.8x360 with 1 Axes>"
      ]
     },
     "metadata": {},
     "output_type": "display_data"
    }
   ],
   "source": [
    "sns.catplot(x='survived',y='age',data=titanic,hue='sex')\n",
    "sns.catplot(x='pclass',y='age',data=titanic,hue='survived')"
   ]
  },
  {
   "cell_type": "code",
   "execution_count": 30,
   "metadata": {},
   "outputs": [
    {
     "name": "stderr",
     "output_type": "stream",
     "text": [
      "C:\\Users\\Alexandre\\Anaconda3\\lib\\site-packages\\ipykernel_launcher.py:2: SettingWithCopyWarning: \n",
      "A value is trying to be set on a copy of a slice from a DataFrame\n",
      "\n",
      "See the caveats in the documentation: http://pandas.pydata.org/pandas-docs/stable/user_guide/indexing.html#returning-a-view-versus-a-copy\n",
      "  \n",
      "C:\\Users\\Alexandre\\Anaconda3\\lib\\site-packages\\pandas\\core\\generic.py:6786: SettingWithCopyWarning: \n",
      "A value is trying to be set on a copy of a slice from a DataFrame\n",
      "\n",
      "See the caveats in the documentation: http://pandas.pydata.org/pandas-docs/stable/user_guide/indexing.html#returning-a-view-versus-a-copy\n",
      "  self._update_inplace(new_data)\n"
     ]
    },
    {
     "data": {
      "text/html": [
       "<div>\n",
       "<style scoped>\n",
       "    .dataframe tbody tr th:only-of-type {\n",
       "        vertical-align: middle;\n",
       "    }\n",
       "\n",
       "    .dataframe tbody tr th {\n",
       "        vertical-align: top;\n",
       "    }\n",
       "\n",
       "    .dataframe thead th {\n",
       "        text-align: right;\n",
       "    }\n",
       "</style>\n",
       "<table border=\"1\" class=\"dataframe\">\n",
       "  <thead>\n",
       "    <tr style=\"text-align: right;\">\n",
       "      <th></th>\n",
       "      <th>survived</th>\n",
       "      <th>pclass</th>\n",
       "      <th>sex</th>\n",
       "      <th>age</th>\n",
       "    </tr>\n",
       "  </thead>\n",
       "  <tbody>\n",
       "    <tr>\n",
       "      <td>0</td>\n",
       "      <td>0</td>\n",
       "      <td>3</td>\n",
       "      <td>0</td>\n",
       "      <td>22.0</td>\n",
       "    </tr>\n",
       "    <tr>\n",
       "      <td>1</td>\n",
       "      <td>1</td>\n",
       "      <td>1</td>\n",
       "      <td>1</td>\n",
       "      <td>38.0</td>\n",
       "    </tr>\n",
       "    <tr>\n",
       "      <td>2</td>\n",
       "      <td>1</td>\n",
       "      <td>3</td>\n",
       "      <td>1</td>\n",
       "      <td>26.0</td>\n",
       "    </tr>\n",
       "    <tr>\n",
       "      <td>3</td>\n",
       "      <td>1</td>\n",
       "      <td>1</td>\n",
       "      <td>1</td>\n",
       "      <td>35.0</td>\n",
       "    </tr>\n",
       "    <tr>\n",
       "      <td>4</td>\n",
       "      <td>0</td>\n",
       "      <td>3</td>\n",
       "      <td>0</td>\n",
       "      <td>35.0</td>\n",
       "    </tr>\n",
       "  </tbody>\n",
       "</table>\n",
       "</div>"
      ],
      "text/plain": [
       "   survived  pclass  sex   age\n",
       "0         0       3    0  22.0\n",
       "1         1       1    1  38.0\n",
       "2         1       3    1  26.0\n",
       "3         1       1    1  35.0\n",
       "4         0       3    0  35.0"
      ]
     },
     "execution_count": 30,
     "metadata": {},
     "output_type": "execute_result"
    }
   ],
   "source": [
    "titanic = titanic[['survived','pclass','sex','age']]\n",
    "titanic.dropna(axis=0, inplace = True)\n",
    "titanic['sex'].replace(['male','female'],[0,1], inplace=True)\n",
    "titanic.head()"
   ]
  },
  {
   "cell_type": "code",
   "execution_count": null,
   "metadata": {},
   "outputs": [],
   "source": []
  },
  {
   "cell_type": "code",
   "execution_count": 31,
   "metadata": {},
   "outputs": [],
   "source": [
    "from sklearn.neighbors import KNeighborsClassifier\n",
    "from sklearn.model_selection import train_test_split"
   ]
  },
  {
   "cell_type": "code",
   "execution_count": 32,
   "metadata": {},
   "outputs": [
    {
     "data": {
      "text/plain": [
       "0.7653631284916201"
      ]
     },
     "execution_count": 32,
     "metadata": {},
     "output_type": "execute_result"
    }
   ],
   "source": [
    "model = KNeighborsClassifier()\n",
    "y = titanic['survived']\n",
    "x = titanic.drop('survived',axis=1)\n",
    "X_train,X_test,y_train,y_test = train_test_split(x,y)\n",
    "model.fit(X_train,y_train)\n",
    "model.score(X_test,y_test)"
   ]
  },
  {
   "cell_type": "code",
   "execution_count": 33,
   "metadata": {},
   "outputs": [],
   "source": [
    "def survie(model,pclass,sex,age):\n",
    "    x= np.array([pclass,sex,age]).reshape(1,3)\n",
    "    print(model.predict(x))\n",
    "    print(model.predict_proba(x))"
   ]
  },
  {
   "cell_type": "code",
   "execution_count": 34,
   "metadata": {},
   "outputs": [
    {
     "name": "stdout",
     "output_type": "stream",
     "text": [
      "[0]\n",
      "[[0.8 0.2]]\n"
     ]
    }
   ],
   "source": [
    "survie(model,3,0,21)"
   ]
  },
  {
   "cell_type": "code",
   "execution_count": 35,
   "metadata": {},
   "outputs": [],
   "source": [
    "from sklearn.model_selection import GridSearchCV"
   ]
  },
  {
   "cell_type": "code",
   "execution_count": 40,
   "metadata": {},
   "outputs": [
    {
     "name": "stderr",
     "output_type": "stream",
     "text": [
      "C:\\Users\\Alexandre\\Anaconda3\\lib\\site-packages\\sklearn\\model_selection\\_search.py:814: DeprecationWarning: The default of the `iid` parameter will change from True to False in version 0.22 and will be removed in 0.24. This will change numeric results when test-set sizes are unequal.\n",
      "  DeprecationWarning)\n"
     ]
    },
    {
     "data": {
      "text/plain": [
       "GridSearchCV(cv=5, error_score='raise-deprecating',\n",
       "             estimator=KNeighborsClassifier(algorithm='auto', leaf_size=30,\n",
       "                                            metric='manhattan',\n",
       "                                            metric_params=None, n_jobs=None,\n",
       "                                            n_neighbors=11, p=2,\n",
       "                                            weights='uniform'),\n",
       "             iid='warn', n_jobs=None,\n",
       "             param_grid={'metric': ['euclidean', 'manhattan'],\n",
       "                         'n_neighbors': array([ 1,  2,  3,  4,  5,  6,  7,  8,  9, 10, 11, 12, 13, 14, 15, 16, 17,\n",
       "       18, 19, 20, 21, 22, 23, 24, 25, 26, 27, 28, 29, 30, 31, 32, 33, 34,\n",
       "       35, 36, 37, 38, 39, 40, 41, 42, 43, 44, 45, 46, 47, 48, 49]),\n",
       "                         'weights': ['uniform', 'distance']},\n",
       "             pre_dispatch='2*n_jobs', refit=True, return_train_score=False,\n",
       "             scoring=None, verbose=0)"
      ]
     },
     "execution_count": 40,
     "metadata": {},
     "output_type": "execute_result"
    }
   ],
   "source": [
    "param_grid = {'n_neighbors':np.arange(1,50),'metric':['euclidean','manhattan'],'weights':['uniform','distance']}\n",
    "grid = GridSearchCV(model,param_grid,cv=5)\n",
    "grid.fit(X_train,y_train)"
   ]
  },
  {
   "cell_type": "code",
   "execution_count": 41,
   "metadata": {},
   "outputs": [
    {
     "data": {
      "text/plain": [
       "{'metric': 'manhattan', 'n_neighbors': 16, 'weights': 'distance'}"
      ]
     },
     "execution_count": 41,
     "metadata": {},
     "output_type": "execute_result"
    }
   ],
   "source": [
    "grid.best_params_"
   ]
  },
  {
   "cell_type": "code",
   "execution_count": 42,
   "metadata": {},
   "outputs": [
    {
     "data": {
      "text/plain": [
       "array([[94,  6],\n",
       "       [28, 51]], dtype=int64)"
      ]
     },
     "execution_count": 42,
     "metadata": {},
     "output_type": "execute_result"
    }
   ],
   "source": [
    "model = grid.best_estimator_\n",
    "model.score(X_test,y_test)\n",
    "from sklearn.metrics import confusion_matrix\n",
    "y = model.predict(X_test)\n",
    "confusion_matrix(y_test,y)\n"
   ]
  },
  {
   "cell_type": "code",
   "execution_count": null,
   "metadata": {},
   "outputs": [],
   "source": []
  },
  {
   "cell_type": "code",
   "execution_count": null,
   "metadata": {},
   "outputs": [],
   "source": [
    "\n"
   ]
  },
  {
   "cell_type": "code",
   "execution_count": null,
   "metadata": {},
   "outputs": [],
   "source": []
  }
 ],
 "metadata": {
  "kernelspec": {
   "display_name": "Python 3",
   "language": "python",
   "name": "python3"
  },
  "language_info": {
   "codemirror_mode": {
    "name": "ipython",
    "version": 3
   },
   "file_extension": ".py",
   "mimetype": "text/x-python",
   "name": "python",
   "nbconvert_exporter": "python",
   "pygments_lexer": "ipython3",
   "version": "3.7.4"
  }
 },
 "nbformat": 4,
 "nbformat_minor": 2
}
